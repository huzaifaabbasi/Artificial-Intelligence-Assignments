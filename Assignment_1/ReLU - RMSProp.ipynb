{
 "cells": [
  {
   "cell_type": "code",
   "execution_count": 11,
   "metadata": {},
   "outputs": [],
   "source": [
    "from keras.models import Sequential\n",
    "from keras.layers import Dense\n",
    "from keras.utils.np_utils import to_categorical\n",
    "import numpy as np\n",
    "import matplotlib.pyplot as plt\n",
    "\n",
    "np.random.seed(1337)"
   ]
  },
  {
   "cell_type": "code",
   "execution_count": null,
   "metadata": {},
   "outputs": [],
   "source": [
    "from keras.datasets import mnist\n",
    "\n",
    "(x_train, y_train), (x_test, y_test) = mnist.load_data()"
   ]
  },
  {
   "cell_type": "code",
   "execution_count": 13,
   "metadata": {},
   "outputs": [],
   "source": [
    "y_train = to_categorical(y_train,10)\n",
    "y_test = to_categorical(y_test,10)"
   ]
  },
  {
   "cell_type": "code",
   "execution_count": 14,
   "metadata": {},
   "outputs": [],
   "source": [
    "x_train = x_train.reshape(x_train.shape[0],784)\n",
    "x_test = x_test.reshape(x_test.shape[0],784)\n",
    "x_train = x_train / 255.0\n",
    "x_test = x_test / 255.0"
   ]
  },
  {
   "cell_type": "code",
   "execution_count": 15,
   "metadata": {},
   "outputs": [],
   "source": [
    "# create model\n",
    "model = Sequential()\n",
    "model.add(Dense(784, input_shape=(784,), activation='relu'))\n",
    "model.add(Dense(10, activation='softmax'))"
   ]
  },
  {
   "cell_type": "code",
   "execution_count": 16,
   "metadata": {},
   "outputs": [
    {
     "name": "stdout",
     "output_type": "stream",
     "text": [
      "_________________________________________________________________\n",
      "Layer (type)                 Output Shape              Param #   \n",
      "=================================================================\n",
      "dense_3 (Dense)              (None, 784)               615440    \n",
      "_________________________________________________________________\n",
      "dense_4 (Dense)              (None, 10)                7850      \n",
      "=================================================================\n",
      "Total params: 623,290\n",
      "Trainable params: 623,290\n",
      "Non-trainable params: 0\n",
      "_________________________________________________________________\n"
     ]
    }
   ],
   "source": [
    "model.summary()"
   ]
  },
  {
   "cell_type": "code",
   "execution_count": 17,
   "metadata": {},
   "outputs": [],
   "source": [
    "# Compile model\n",
    "model.compile(loss='categorical_crossentropy', optimizer='rmsprop', metrics=['accuracy'])"
   ]
  },
  {
   "cell_type": "code",
   "execution_count": 18,
   "metadata": {},
   "outputs": [
    {
     "name": "stdout",
     "output_type": "stream",
     "text": [
      "Train on 60000 samples, validate on 10000 samples\n",
      "Epoch 1/20\n",
      "60000/60000 [==============================] - 7s 122us/step - loss: 0.2391 - acc: 0.9297 - val_loss: 0.1217 - val_acc: 0.9631\n",
      "Epoch 2/20\n",
      "60000/60000 [==============================] - 10s 173us/step - loss: 0.0944 - acc: 0.9717 - val_loss: 0.0826 - val_acc: 0.9756\n",
      "Epoch 3/20\n",
      "60000/60000 [==============================] - 10s 170us/step - loss: 0.0615 - acc: 0.9817 - val_loss: 0.0794 - val_acc: 0.9746\n",
      "Epoch 4/20\n",
      "60000/60000 [==============================] - 9s 148us/step - loss: 0.0436 - acc: 0.9867 - val_loss: 0.0693 - val_acc: 0.9797\n",
      "Epoch 5/20\n",
      "60000/60000 [==============================] - 8s 135us/step - loss: 0.0325 - acc: 0.9900 - val_loss: 0.0678 - val_acc: 0.9796\n",
      "Epoch 6/20\n",
      "60000/60000 [==============================] - 8s 140us/step - loss: 0.0242 - acc: 0.9926 - val_loss: 0.0651 - val_acc: 0.9815\n",
      "Epoch 7/20\n",
      "60000/60000 [==============================] - 7s 125us/step - loss: 0.0187 - acc: 0.9944 - val_loss: 0.0610 - val_acc: 0.9838\n",
      "Epoch 8/20\n",
      "60000/60000 [==============================] - 9s 149us/step - loss: 0.0135 - acc: 0.9959 - val_loss: 0.0681 - val_acc: 0.9826\n",
      "Epoch 9/20\n",
      "60000/60000 [==============================] - 8s 130us/step - loss: 0.0100 - acc: 0.9970 - val_loss: 0.0667 - val_acc: 0.9837\n",
      "Epoch 10/20\n",
      "60000/60000 [==============================] - 8s 132us/step - loss: 0.0083 - acc: 0.9975 - val_loss: 0.0784 - val_acc: 0.9805\n",
      "Epoch 11/20\n",
      "60000/60000 [==============================] - 10s 167us/step - loss: 0.0061 - acc: 0.9983 - val_loss: 0.0808 - val_acc: 0.9828\n",
      "Epoch 12/20\n",
      "60000/60000 [==============================] - 17s 280us/step - loss: 0.0048 - acc: 0.9986 - val_loss: 0.0955 - val_acc: 0.9802\n",
      "Epoch 13/20\n",
      "60000/60000 [==============================] - 18s 294us/step - loss: 0.0038 - acc: 0.9990 - val_loss: 0.0874 - val_acc: 0.9819\n",
      "Epoch 14/20\n",
      "60000/60000 [==============================] - 18s 306us/step - loss: 0.0038 - acc: 0.9988 - val_loss: 0.0815 - val_acc: 0.9829\n",
      "Epoch 15/20\n",
      "60000/60000 [==============================] - 17s 284us/step - loss: 0.0027 - acc: 0.9993 - val_loss: 0.0866 - val_acc: 0.9828\n",
      "Epoch 16/20\n",
      "60000/60000 [==============================] - 18s 294us/step - loss: 0.0022 - acc: 0.9994 - val_loss: 0.0845 - val_acc: 0.9831\n",
      "Epoch 17/20\n",
      "60000/60000 [==============================] - 16s 260us/step - loss: 0.0021 - acc: 0.9993 - val_loss: 0.0954 - val_acc: 0.9819\n",
      "Epoch 18/20\n",
      "60000/60000 [==============================] - 16s 269us/step - loss: 0.0015 - acc: 0.9996 - val_loss: 0.1003 - val_acc: 0.9826\n",
      "Epoch 19/20\n",
      "60000/60000 [==============================] - 17s 276us/step - loss: 0.0015 - acc: 0.9997 - val_loss: 0.1079 - val_acc: 0.9816\n",
      "Epoch 20/20\n",
      "60000/60000 [==============================] - 17s 279us/step - loss: 0.0010 - acc: 0.9998 - val_loss: 0.0935 - val_acc: 0.9840\n"
     ]
    }
   ],
   "source": [
    "# Fit the model\n",
    "Model = model.fit(x_train, y_train, epochs=20, batch_size=128, validation_data = (x_test, y_test))"
   ]
  },
  {
   "cell_type": "code",
   "execution_count": 10,
   "metadata": {},
   "outputs": [
    {
     "name": "stdout",
     "output_type": "stream",
     "text": [
      "Total loss: 0.0847234277044\n",
      "Accuracy of the test datset: 98.3\n"
     ]
    },
    {
     "data": {
      "image/png": "[encoded data removed]",
      "text/plain": [
       "<matplotlib.figure.Figure at 0x27cb8aacd30>"
      ]
     },
     "metadata": {},
     "output_type": "display_data"
    },
    {
     "data": {
      "image/png": "[encoded data removed]",
      "text/plain": [
       "<matplotlib.figure.Figure at 0x27cb8a96278>"
      ]
     },
     "metadata": {},
     "output_type": "display_data"
    }
   ],
   "source": [
    "score = model.evaluate(x_test, y_test, verbose=0)\n",
    "print('Total loss:', score[0])\n",
    "print('Accuracy of the test datset:', score[1]*100)\n",
    "\n",
    "plt.plot(Model.history['acc'])\n",
    "plt.plot(Model.history['val_acc'])\n",
    "plt.title('model accuracy')\n",
    "plt.ylabel('accuracy')\n",
    "plt.xlabel('epoch')\n",
    "plt.legend(['train', 'test'], loc='upper left')\n",
    "plt.show()\n",
    "\n",
    "plt.plot(Model.history['loss'])\n",
    "plt.plot(Model.history['val_loss'])\n",
    "plt.title('model loss')\n",
    "plt.ylabel('loss')\n",
    "plt.xlabel('epoch')\n",
    "plt.legend(['train', 'test'], loc='upper left')\n",
    "plt.show()"
   ]
  },
  {
   "cell_type": "code",
   "execution_count": null,
   "metadata": {},
   "outputs": [],
   "source": []
  }
 ],
 "metadata": {
  "kernelspec": {
   "display_name": "Python 3",
   "language": "python",
   "name": "python3"
  },
  "language_info": {
   "codemirror_mode": {
    "name": "ipython",
    "version": 3
   },
   "file_extension": ".py",
   "mimetype": "text/x-python",
   "name": "python",
   "nbconvert_exporter": "python",
   "pygments_lexer": "ipython3",
   "version": "3.6.3"
  }
 },
 "nbformat": 4,
 "nbformat_minor": 2
}
