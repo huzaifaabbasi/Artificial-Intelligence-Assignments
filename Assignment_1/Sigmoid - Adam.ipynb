{
 "cells": [
  {
   "cell_type": "code",
   "execution_count": 14,
   "metadata": {},
   "outputs": [],
   "source": [
    "from keras.models import Sequential\n",
    "from keras.layers import Dense\n",
    "from keras.utils.np_utils import to_categorical\n",
    "import numpy as np\n",
    "import matplotlib.pyplot as plt\n",
    "\n",
    "np.random.seed(1337)"
   ]
  },
  {
   "cell_type": "code",
   "execution_count": 15,
   "metadata": {},
   "outputs": [],
   "source": [
    "from keras.datasets import mnist\n",
    "\n",
    "(x_train, y_train), (x_test, y_test) = mnist.load_data()"
   ]
  },
  {
   "cell_type": "code",
   "execution_count": 16,
   "metadata": {},
   "outputs": [],
   "source": [
    "y_train = to_categorical(y_train,10)\n",
    "y_test = to_categorical(y_test,10)"
   ]
  },
  {
   "cell_type": "code",
   "execution_count": 17,
   "metadata": {},
   "outputs": [],
   "source": [
    "x_train = x_train.reshape(x_train.shape[0],784)\n",
    "x_test = x_test.reshape(x_test.shape[0],784)\n",
    "x_train = x_train / 255.0\n",
    "x_test = x_test / 255.0"
   ]
  },
  {
   "cell_type": "code",
   "execution_count": 18,
   "metadata": {},
   "outputs": [],
   "source": [
    "# create model\n",
    "model = Sequential()\n",
    "model.add(Dense(784, input_shape=(784,), activation='sigmoid'))\n",
    "model.add(Dense(10, activation='softmax'))"
   ]
  },
  {
   "cell_type": "code",
   "execution_count": 19,
   "metadata": {},
   "outputs": [
    {
     "name": "stdout",
     "output_type": "stream",
     "text": [
      "_________________________________________________________________\n",
      "Layer (type)                 Output Shape              Param #   \n",
      "=================================================================\n",
      "dense_3 (Dense)              (None, 784)               615440    \n",
      "_________________________________________________________________\n",
      "dense_4 (Dense)              (None, 10)                7850      \n",
      "=================================================================\n",
      "Total params: 623,290\n",
      "Trainable params: 623,290\n",
      "Non-trainable params: 0\n",
      "_________________________________________________________________\n"
     ]
    }
   ],
   "source": [
    "model.summary()"
   ]
  },
  {
   "cell_type": "code",
   "execution_count": 20,
   "metadata": {},
   "outputs": [],
   "source": [
    "# Compile model\n",
    "model.compile(loss='categorical_crossentropy', optimizer='adam', metrics=['accuracy'])"
   ]
  },
  {
   "cell_type": "code",
   "execution_count": 21,
   "metadata": {},
   "outputs": [
    {
     "name": "stdout",
     "output_type": "stream",
     "text": [
      "Train on 60000 samples, validate on 10000 samples\n",
      "Epoch 1/20\n",
      "60000/60000 [==============================] - 9s 146us/step - loss: 0.4239 - acc: 0.8852 - val_loss: 0.2665 - val_acc: 0.9216\n",
      "Epoch 2/20\n",
      "60000/60000 [==============================] - 10s 159us/step - loss: 0.2447 - acc: 0.9288 - val_loss: 0.2119 - val_acc: 0.9390\n",
      "Epoch 3/20\n",
      "60000/60000 [==============================] - 10s 175us/step - loss: 0.1901 - acc: 0.9448 - val_loss: 0.1686 - val_acc: 0.9493\n",
      "Epoch 4/20\n",
      "60000/60000 [==============================] - 11s 183us/step - loss: 0.1507 - acc: 0.9562 - val_loss: 0.1395 - val_acc: 0.9572\n",
      "Epoch 5/20\n",
      "60000/60000 [==============================] - 11s 187us/step - loss: 0.1213 - acc: 0.9647 - val_loss: 0.1229 - val_acc: 0.9621\n",
      "Epoch 6/20\n",
      "60000/60000 [==============================] - 10s 172us/step - loss: 0.0996 - acc: 0.9711 - val_loss: 0.1052 - val_acc: 0.9673\n",
      "Epoch 7/20\n",
      "60000/60000 [==============================] - 10s 172us/step - loss: 0.0819 - acc: 0.9766 - val_loss: 0.0973 - val_acc: 0.9716\n",
      "Epoch 8/20\n",
      "60000/60000 [==============================] - 10s 169us/step - loss: 0.0683 - acc: 0.9800 - val_loss: 0.0863 - val_acc: 0.9741\n",
      "Epoch 9/20\n",
      "60000/60000 [==============================] - 11s 178us/step - loss: 0.0575 - acc: 0.9836 - val_loss: 0.0814 - val_acc: 0.9758\n",
      "Epoch 10/20\n",
      "60000/60000 [==============================] - 11s 177us/step - loss: 0.0476 - acc: 0.9863 - val_loss: 0.0715 - val_acc: 0.9778\n",
      "Epoch 11/20\n",
      "60000/60000 [==============================] - 9s 151us/step - loss: 0.0400 - acc: 0.9892 - val_loss: 0.0717 - val_acc: 0.9779\n",
      "Epoch 12/20\n",
      "60000/60000 [==============================] - 9s 152us/step - loss: 0.0332 - acc: 0.9910 - val_loss: 0.0693 - val_acc: 0.9793\n",
      "Epoch 13/20\n",
      "60000/60000 [==============================] - 10s 166us/step - loss: 0.0281 - acc: 0.9925 - val_loss: 0.0678 - val_acc: 0.9802\n",
      "Epoch 14/20\n",
      "60000/60000 [==============================] - 11s 180us/step - loss: 0.0230 - acc: 0.9943 - val_loss: 0.0696 - val_acc: 0.9777\n",
      "Epoch 15/20\n",
      "60000/60000 [==============================] - 11s 178us/step - loss: 0.0189 - acc: 0.9959 - val_loss: 0.0651 - val_acc: 0.9798\n",
      "Epoch 16/20\n",
      "60000/60000 [==============================] - 11s 179us/step - loss: 0.0159 - acc: 0.9965 - val_loss: 0.0652 - val_acc: 0.9800\n",
      "Epoch 17/20\n",
      "60000/60000 [==============================] - 11s 180us/step - loss: 0.0128 - acc: 0.9978 - val_loss: 0.0656 - val_acc: 0.9806\n",
      "Epoch 18/20\n",
      "60000/60000 [==============================] - 11s 180us/step - loss: 0.0107 - acc: 0.9980 - val_loss: 0.0648 - val_acc: 0.9808\n",
      "Epoch 19/20\n",
      "60000/60000 [==============================] - 11s 181us/step - loss: 0.0089 - acc: 0.9987 - val_loss: 0.0632 - val_acc: 0.9800\n",
      "Epoch 20/20\n",
      "60000/60000 [==============================] - 11s 189us/step - loss: 0.0072 - acc: 0.9990 - val_loss: 0.0653 - val_acc: 0.9802\n"
     ]
    }
   ],
   "source": [
    "# Fit the model\n",
    "Model = model.fit(x_train, y_train, epochs=20, batch_size=128, validation_data = (x_test, y_test))"
   ]
  },
  {
   "cell_type": "code",
   "execution_count": 22,
   "metadata": {},
   "outputs": [
    {
     "name": "stdout",
     "output_type": "stream",
     "text": [
      "Total loss: 0.0653483230987\n",
      "Accuracy of the test datset: 98.02\n"
     ]
    },
    {
     "data": {
      "image/png": "[encoded data removed]",
      "text/plain": [
       "<matplotlib.figure.Figure at 0x21f1ad148d0>"
      ]
     },
     "metadata": {},
     "output_type": "display_data"
    },
    {
     "data": {
      "image/png": "[encoded data removed]",
      "text/plain": [
       "<matplotlib.figure.Figure at 0x21f1ce4db70>"
      ]
     },
     "metadata": {},
     "output_type": "display_data"
    }
   ],
   "source": [
    "score = model.evaluate(x_test, y_test, verbose=0)\n",
    "print('Total loss:', score[0])\n",
    "print('Accuracy of the test datset:', score[1]*100)\n",
    "\n",
    "plt.plot(Model.history['acc'])\n",
    "plt.plot(Model.history['val_acc'])\n",
    "plt.title('model accuracy')\n",
    "plt.ylabel('accuracy')\n",
    "plt.xlabel('epoch')\n",
    "plt.legend(['train', 'test'], loc='upper left')\n",
    "plt.show()\n",
    "\n",
    "plt.plot(Model.history['loss'])\n",
    "plt.plot(Model.history['val_loss'])\n",
    "plt.title('model loss')\n",
    "plt.ylabel('loss')\n",
    "plt.xlabel('epoch')\n",
    "plt.legend(['train', 'test'], loc='upper left')\n",
    "plt.show()"
   ]
  },
  {
   "cell_type": "code",
   "execution_count": null,
   "metadata": {},
   "outputs": [],
   "source": []
  }
 ],
 "metadata": {
  "kernelspec": {
   "display_name": "Python 3",
   "language": "python",
   "name": "python3"
  },
  "language_info": {
   "codemirror_mode": {
    "name": "ipython",
    "version": 3
   },
   "file_extension": ".py",
   "mimetype": "text/x-python",
   "name": "python",
   "nbconvert_exporter": "python",
   "pygments_lexer": "ipython3",
   "version": "3.6.3"
  }
 },
 "nbformat": 4,
 "nbformat_minor": 2
}
