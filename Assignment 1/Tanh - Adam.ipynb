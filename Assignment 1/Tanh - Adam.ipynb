{
 "cells": [
  {
   "cell_type": "code",
   "execution_count": 1,
   "metadata": {},
   "outputs": [
    {
     "name": "stderr",
     "output_type": "stream",
     "text": [
      "Using TensorFlow backend.\n"
     ]
    }
   ],
   "source": [
    "from keras.models import Sequential\n",
    "from keras.layers import Dense\n",
    "from keras.utils.np_utils import to_categorical\n",
    "import numpy as np\n",
    "import matplotlib.pyplot as plt\n",
    "\n",
    "np.random.seed(1337)"
   ]
  },
  {
   "cell_type": "code",
   "execution_count": 2,
   "metadata": {},
   "outputs": [],
   "source": [
    "from keras.datasets import mnist\n",
    "\n",
    "(x_train, y_train), (x_test, y_test) = mnist.load_data()"
   ]
  },
  {
   "cell_type": "code",
   "execution_count": 3,
   "metadata": {},
   "outputs": [],
   "source": [
    "y_train = to_categorical(y_train,10)\n",
    "y_test = to_categorical(y_test,10)"
   ]
  },
  {
   "cell_type": "code",
   "execution_count": 4,
   "metadata": {},
   "outputs": [],
   "source": [
    "x_train = x_train.reshape(x_train.shape[0],784)\n",
    "x_test = x_test.reshape(x_test.shape[0],784)\n",
    "x_train = x_train / 255.0\n",
    "x_test = x_test / 255.0"
   ]
  },
  {
   "cell_type": "code",
   "execution_count": 5,
   "metadata": {},
   "outputs": [],
   "source": [
    "# create model\n",
    "model = Sequential()\n",
    "model.add(Dense(784, input_shape=(784,), activation='tanh'))\n",
    "model.add(Dense(10, activation='softmax'))"
   ]
  },
  {
   "cell_type": "code",
   "execution_count": 6,
   "metadata": {},
   "outputs": [
    {
     "name": "stdout",
     "output_type": "stream",
     "text": [
      "_________________________________________________________________\n",
      "Layer (type)                 Output Shape              Param #   \n",
      "=================================================================\n",
      "dense_1 (Dense)              (None, 784)               615440    \n",
      "_________________________________________________________________\n",
      "dense_2 (Dense)              (None, 10)                7850      \n",
      "=================================================================\n",
      "Total params: 623,290\n",
      "Trainable params: 623,290\n",
      "Non-trainable params: 0\n",
      "_________________________________________________________________\n"
     ]
    }
   ],
   "source": [
    "model.summary()"
   ]
  },
  {
   "cell_type": "code",
   "execution_count": 7,
   "metadata": {},
   "outputs": [],
   "source": [
    "# Compile model\n",
    "model.compile(loss='categorical_crossentropy', optimizer='adam', metrics=['accuracy'])"
   ]
  },
  {
   "cell_type": "code",
   "execution_count": 8,
   "metadata": {},
   "outputs": [
    {
     "name": "stdout",
     "output_type": "stream",
     "text": [
      "Train on 60000 samples, validate on 10000 samples\n",
      "Epoch 1/20\n",
      "60000/60000 [==============================] - 8s 138us/step - loss: 0.3258 - acc: 0.9052 - val_loss: 0.2210 - val_acc: 0.9349\n",
      "Epoch 2/20\n",
      "60000/60000 [==============================] - 8s 139us/step - loss: 0.1793 - acc: 0.9480 - val_loss: 0.1477 - val_acc: 0.9568\n",
      "Epoch 3/20\n",
      "60000/60000 [==============================] - 9s 152us/step - loss: 0.1200 - acc: 0.9646 - val_loss: 0.1164 - val_acc: 0.9659\n",
      "Epoch 4/20\n",
      "60000/60000 [==============================] - 11s 180us/step - loss: 0.0880 - acc: 0.9738 - val_loss: 0.0910 - val_acc: 0.9729\n",
      "Epoch 5/20\n",
      "60000/60000 [==============================] - 13s 208us/step - loss: 0.0661 - acc: 0.9801 - val_loss: 0.0857 - val_acc: 0.9742\n",
      "Epoch 6/20\n",
      "60000/60000 [==============================] - 12s 197us/step - loss: 0.0510 - acc: 0.9844 - val_loss: 0.0769 - val_acc: 0.9770\n",
      "Epoch 7/20\n",
      "60000/60000 [==============================] - 12s 200us/step - loss: 0.0396 - acc: 0.9882 - val_loss: 0.0760 - val_acc: 0.9768\n",
      "Epoch 8/20\n",
      "60000/60000 [==============================] - 12s 194us/step - loss: 0.0299 - acc: 0.9916 - val_loss: 0.0720 - val_acc: 0.9777\n",
      "Epoch 9/20\n",
      "60000/60000 [==============================] - 10s 161us/step - loss: 0.0238 - acc: 0.9933 - val_loss: 0.0706 - val_acc: 0.9786\n",
      "Epoch 10/20\n",
      "60000/60000 [==============================] - 9s 154us/step - loss: 0.0174 - acc: 0.9956 - val_loss: 0.0667 - val_acc: 0.9792\n",
      "Epoch 11/20\n",
      "60000/60000 [==============================] - 10s 162us/step - loss: 0.0136 - acc: 0.9966 - val_loss: 0.0738 - val_acc: 0.9773\n",
      "Epoch 12/20\n",
      "60000/60000 [==============================] - 9s 145us/step - loss: 0.0114 - acc: 0.9972 - val_loss: 0.0710 - val_acc: 0.9799\n",
      "Epoch 13/20\n",
      "60000/60000 [==============================] - 10s 163us/step - loss: 0.0092 - acc: 0.9979 - val_loss: 0.0687 - val_acc: 0.9805\n",
      "Epoch 14/20\n",
      "60000/60000 [==============================] - 10s 164us/step - loss: 0.0073 - acc: 0.9983 - val_loss: 0.0756 - val_acc: 0.9792\n",
      "Epoch 15/20\n",
      "60000/60000 [==============================] - 10s 161us/step - loss: 0.0052 - acc: 0.9990 - val_loss: 0.0720 - val_acc: 0.9805\n",
      "Epoch 16/20\n",
      "60000/60000 [==============================] - 9s 156us/step - loss: 0.0048 - acc: 0.9990 - val_loss: 0.0808 - val_acc: 0.9794\n",
      "Epoch 17/20\n",
      "60000/60000 [==============================] - 10s 164us/step - loss: 0.0049 - acc: 0.9990 - val_loss: 0.0712 - val_acc: 0.9807\n",
      "Epoch 18/20\n",
      "60000/60000 [==============================] - 9s 153us/step - loss: 0.0033 - acc: 0.9995 - val_loss: 0.0747 - val_acc: 0.9816\n",
      "Epoch 19/20\n",
      "60000/60000 [==============================] - 10s 159us/step - loss: 0.0023 - acc: 0.9996 - val_loss: 0.0753 - val_acc: 0.9807\n",
      "Epoch 20/20\n",
      "60000/60000 [==============================] - 10s 165us/step - loss: 0.0075 - acc: 0.9977 - val_loss: 0.0829 - val_acc: 0.9794\n"
     ]
    }
   ],
   "source": [
    "# Fit the model\n",
    "Model = model.fit(x_train, y_train, epochs=20, batch_size=128, validation_data = (x_test, y_test))"
   ]
  },
  {
   "cell_type": "code",
   "execution_count": 9,
   "metadata": {},
   "outputs": [
    {
     "name": "stdout",
     "output_type": "stream",
     "text": [
      "Total loss: 0.0828857972488\n",
      "Accuracy of the test datset: 97.94\n"
     ]
    },
    {
     "data": {
      "image/png": "[encoded data removed]",
      "text/plain": [
       "<matplotlib.figure.Figure at 0x2751cd10ac8>"
      ]
     },
     "metadata": {},
     "output_type": "display_data"
    },
    {
     "data": {
      "image/png": "[encoded data removed]",
      "text/plain": [
       "<matplotlib.figure.Figure at 0x2751cded780>"
      ]
     },
     "metadata": {},
     "output_type": "display_data"
    }
   ],
   "source": [
    "score = model.evaluate(x_test, y_test, verbose=0)\n",
    "print('Total loss:', score[0])\n",
    "print('Accuracy of the test datset:', score[1]*100)\n",
    "\n",
    "plt.plot(Model.history['acc'])\n",
    "plt.plot(Model.history['val_acc'])\n",
    "plt.title('model accuracy')\n",
    "plt.ylabel('accuracy')\n",
    "plt.xlabel('epoch')\n",
    "plt.legend(['train', 'test'], loc='upper left')\n",
    "plt.show()\n",
    "\n",
    "plt.plot(Model.history['loss'])\n",
    "plt.plot(Model.history['val_loss'])\n",
    "plt.title('model loss')\n",
    "plt.ylabel('loss')\n",
    "plt.xlabel('epoch')\n",
    "plt.legend(['train', 'test'], loc='upper left')\n",
    "plt.show()"
   ]
  },
  {
   "cell_type": "code",
   "execution_count": null,
   "metadata": {},
   "outputs": [],
   "source": []
  }
 ],
 "metadata": {
  "kernelspec": {
   "display_name": "Python 3",
   "language": "python",
   "name": "python3"
  },
  "language_info": {
   "codemirror_mode": {
    "name": "ipython",
    "version": 3
   },
   "file_extension": ".py",
   "mimetype": "text/x-python",
   "name": "python",
   "nbconvert_exporter": "python",
   "pygments_lexer": "ipython3",
   "version": "3.6.3"
  }
 },
 "nbformat": 4,
 "nbformat_minor": 2
}
