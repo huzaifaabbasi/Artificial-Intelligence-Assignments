{
 "cells": [
  {
   "cell_type": "code",
   "execution_count": 2,
   "metadata": {},
   "outputs": [],
   "source": [
    "from keras.models import Sequential\n",
    "from keras.layers import Dense\n",
    "from keras.utils.np_utils import to_categorical\n",
    "import numpy as np\n",
    "import matplotlib.pyplot as plt\n",
    "\n",
    "np.random.seed(1337)"
   ]
  },
  {
   "cell_type": "code",
   "execution_count": 3,
   "metadata": {},
   "outputs": [],
   "source": [
    "from keras.datasets import mnist\n",
    "\n",
    "(x_train, y_train), (x_test, y_test) = mnist.load_data()"
   ]
  },
  {
   "cell_type": "code",
   "execution_count": 4,
   "metadata": {},
   "outputs": [],
   "source": [
    "y_train = to_categorical(y_train,10)\n",
    "y_test = to_categorical(y_test,10)"
   ]
  },
  {
   "cell_type": "code",
   "execution_count": 5,
   "metadata": {},
   "outputs": [],
   "source": [
    "x_train = x_train.reshape(x_train.shape[0],784)\n",
    "x_test = x_test.reshape(x_test.shape[0],784)\n",
    "x_train = x_train / 255.0\n",
    "x_test = x_test / 255.0"
   ]
  },
  {
   "cell_type": "code",
   "execution_count": 6,
   "metadata": {},
   "outputs": [],
   "source": [
    "# create model\n",
    "model = Sequential()\n",
    "model.add(Dense(784, input_shape=(784,), activation='relu'))\n",
    "model.add(Dense(10, activation='softmax'))"
   ]
  },
  {
   "cell_type": "code",
   "execution_count": 7,
   "metadata": {},
   "outputs": [
    {
     "name": "stdout",
     "output_type": "stream",
     "text": [
      "_________________________________________________________________\n",
      "Layer (type)                 Output Shape              Param #   \n",
      "=================================================================\n",
      "dense_1 (Dense)              (None, 784)               615440    \n",
      "_________________________________________________________________\n",
      "dense_2 (Dense)              (None, 10)                7850      \n",
      "=================================================================\n",
      "Total params: 623,290\n",
      "Trainable params: 623,290\n",
      "Non-trainable params: 0\n",
      "_________________________________________________________________\n"
     ]
    }
   ],
   "source": [
    "model.summary()"
   ]
  },
  {
   "cell_type": "code",
   "execution_count": 8,
   "metadata": {},
   "outputs": [],
   "source": [
    "# Compile model\n",
    "model.compile(loss='categorical_crossentropy', optimizer='adam', metrics=['accuracy'])"
   ]
  },
  {
   "cell_type": "code",
   "execution_count": 9,
   "metadata": {},
   "outputs": [
    {
     "name": "stdout",
     "output_type": "stream",
     "text": [
      "Train on 60000 samples, validate on 10000 samples\n",
      "Epoch 1/20\n",
      "60000/60000 [==============================] - 8s 138us/step - loss: 0.2472 - acc: 0.9293 - val_loss: 0.1189 - val_acc: 0.9657\n",
      "Epoch 2/20\n",
      "60000/60000 [==============================] - 9s 156us/step - loss: 0.0962 - acc: 0.9721 - val_loss: 0.0880 - val_acc: 0.9737\n",
      "Epoch 3/20\n",
      "60000/60000 [==============================] - 9s 157us/step - loss: 0.0616 - acc: 0.9817 - val_loss: 0.0743 - val_acc: 0.9778\n",
      "Epoch 4/20\n",
      "60000/60000 [==============================] - 9s 157us/step - loss: 0.0425 - acc: 0.9876 - val_loss: 0.0643 - val_acc: 0.9808\n",
      "Epoch 5/20\n",
      "60000/60000 [==============================] - 10s 170us/step - loss: 0.0309 - acc: 0.9910 - val_loss: 0.0644 - val_acc: 0.9798\n",
      "Epoch 6/20\n",
      "60000/60000 [==============================] - 11s 176us/step - loss: 0.0214 - acc: 0.9937 - val_loss: 0.0630 - val_acc: 0.9799\n",
      "Epoch 7/20\n",
      "60000/60000 [==============================] - 9s 153us/step - loss: 0.0168 - acc: 0.9956 - val_loss: 0.0616 - val_acc: 0.9812\n",
      "Epoch 8/20\n",
      "60000/60000 [==============================] - 10s 166us/step - loss: 0.0112 - acc: 0.9973 - val_loss: 0.0634 - val_acc: 0.9814\n",
      "Epoch 9/20\n",
      "60000/60000 [==============================] - 9s 147us/step - loss: 0.0089 - acc: 0.9982 - val_loss: 0.0634 - val_acc: 0.9813\n",
      "Epoch 10/20\n",
      "60000/60000 [==============================] - 9s 147us/step - loss: 0.0097 - acc: 0.9971 - val_loss: 0.0633 - val_acc: 0.9816\n",
      "Epoch 11/20\n",
      "60000/60000 [==============================] - 9s 146us/step - loss: 0.0081 - acc: 0.9976 - val_loss: 0.0709 - val_acc: 0.9814\n",
      "Epoch 12/20\n",
      "60000/60000 [==============================] - 9s 147us/step - loss: 0.0064 - acc: 0.9983 - val_loss: 0.0679 - val_acc: 0.9816\n",
      "Epoch 13/20\n",
      "60000/60000 [==============================] - 10s 163us/step - loss: 0.0045 - acc: 0.9989 - val_loss: 0.0743 - val_acc: 0.9816\n",
      "Epoch 14/20\n",
      "60000/60000 [==============================] - 10s 166us/step - loss: 0.0077 - acc: 0.9975 - val_loss: 0.0795 - val_acc: 0.9814\n",
      "Epoch 15/20\n",
      "60000/60000 [==============================] - 10s 171us/step - loss: 0.0052 - acc: 0.9984 - val_loss: 0.0812 - val_acc: 0.9801\n",
      "Epoch 16/20\n",
      "60000/60000 [==============================] - 11s 177us/step - loss: 0.0055 - acc: 0.9983 - val_loss: 0.0863 - val_acc: 0.9789\n",
      "Epoch 17/20\n",
      "60000/60000 [==============================] - 10s 159us/step - loss: 0.0023 - acc: 0.9995 - val_loss: 0.0737 - val_acc: 0.9836\n",
      "Epoch 18/20\n",
      "60000/60000 [==============================] - 10s 162us/step - loss: 0.0022 - acc: 0.9994 - val_loss: 0.0800 - val_acc: 0.9825\n",
      "Epoch 19/20\n",
      "60000/60000 [==============================] - 10s 172us/step - loss: 0.0111 - acc: 0.9963 - val_loss: 0.0779 - val_acc: 0.9802\n",
      "Epoch 20/20\n",
      "60000/60000 [==============================] - 11s 186us/step - loss: 0.0053 - acc: 0.9984 - val_loss: 0.0801 - val_acc: 0.9825\n"
     ]
    }
   ],
   "source": [
    "# Fit the model\n",
    "Model = model.fit(x_train, y_train, epochs=20, batch_size=128, validation_data = (x_test, y_test))"
   ]
  },
  {
   "cell_type": "code",
   "execution_count": 10,
   "metadata": {},
   "outputs": [
    {
     "name": "stdout",
     "output_type": "stream",
     "text": [
      "Total loss: 0.0801193828047\n",
      "Accuracy of the test datset: 98.25\n"
     ]
    },
    {
     "data": {
      "image/png": "[encoded data removed]",
      "text/plain": [
       "<matplotlib.figure.Figure at 0x1b4e02fbb00>"
      ]
     },
     "metadata": {},
     "output_type": "display_data"
    },
    {
     "data": {
      "image/png": "[encoded data removed]",
      "text/plain": [
       "<matplotlib.figure.Figure at 0x1b4e05f4e10>"
      ]
     },
     "metadata": {},
     "output_type": "display_data"
    }
   ],
   "source": [
    "score = model.evaluate(x_test, y_test, verbose=0)\n",
    "print('Total loss:', score[0])\n",
    "print('Accuracy of the test datset:', score[1]*100)\n",
    "\n",
    "plt.plot(Model.history['acc'])\n",
    "plt.plot(Model.history['val_acc'])\n",
    "plt.title('model accuracy')\n",
    "plt.ylabel('accuracy')\n",
    "plt.xlabel('epoch')\n",
    "plt.legend(['train', 'test'], loc='upper left')\n",
    "plt.show()\n",
    "\n",
    "plt.plot(Model.history['loss'])\n",
    "plt.plot(Model.history['val_loss'])\n",
    "plt.title('model loss')\n",
    "plt.ylabel('loss')\n",
    "plt.xlabel('epoch')\n",
    "plt.legend(['train', 'test'], loc='upper left')\n",
    "plt.show()"
   ]
  },
  {
   "cell_type": "code",
   "execution_count": null,
   "metadata": {},
   "outputs": [],
   "source": []
  }
 ],
 "metadata": {
  "kernelspec": {
   "display_name": "Python 3",
   "language": "python",
   "name": "python3"
  },
  "language_info": {
   "codemirror_mode": {
    "name": "ipython",
    "version": 3
   },
   "file_extension": ".py",
   "mimetype": "text/x-python",
   "name": "python",
   "nbconvert_exporter": "python",
   "pygments_lexer": "ipython3",
   "version": "3.6.3"
  }
 },
 "nbformat": 4,
 "nbformat_minor": 2
}
